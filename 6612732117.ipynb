{
 "cells": [
  {
   "cell_type": "code",
   "execution_count": 16,
   "id": "934957a0-fba2-4a9b-96b4-52035c18ae09",
   "metadata": {
    "tags": []
   },
   "outputs": [
    {
     "name": "stdout",
     "output_type": "stream",
     "text": [
      " * \n",
      " *  * \n",
      " *  *  * \n",
      " *  *  *  * \n",
      " *  *  *  *  * \n"
     ]
    }
   ],
   "source": [
    "for i in range (1,6):\n",
    "    print(' * ' * i)\n",
    "    \n"
   ]
  },
  {
   "cell_type": "code",
   "execution_count": 17,
   "id": "9e5b8308-322c-4431-b098-177c4f0bc5d9",
   "metadata": {
    "tags": []
   },
   "outputs": [
    {
     "name": "stdout",
     "output_type": "stream",
     "text": [
      " *  *  *  *  * \n",
      " *  *  *  * \n",
      " *  *  * \n",
      " *  * \n",
      " * \n"
     ]
    }
   ],
   "source": [
    "for i in range (5,0,-1):\n",
    "    print(' * ' * i)\n",
    "    "
   ]
  },
  {
   "cell_type": "code",
   "execution_count": 51,
   "id": "1df95825-07cc-48bf-a3c7-a310db14a4aa",
   "metadata": {
    "tags": []
   },
   "outputs": [
    {
     "name": "stdout",
     "output_type": "stream",
     "text": [
      "           *\n",
      "         * *\n",
      "       * * *\n",
      "     * * * *\n",
      "   * * * * *\n",
      " * * * * * *\n"
     ]
    }
   ],
   "source": [
    "num = 6\n",
    "end = num - 1\n",
    "for i in range (0,num):\n",
    "    for j in range(0,num):\n",
    "        if j >=end -i:\n",
    "            print (\" *\",end=\"\")\n",
    "        else:\n",
    "            print (\" \",end=\" \")\n",
    "    print()\n",
    "\n",
    "\n"
   ]
  },
  {
   "cell_type": "code",
   "execution_count": 86,
   "id": "2667700b-2d00-471d-bf01-6d965334365d",
   "metadata": {
    "tags": []
   },
   "outputs": [
    {
     "name": "stdout",
     "output_type": "stream",
     "text": [
      "*****\n",
      "****\n",
      "***\n",
      "**\n",
      "*\n",
      "\n"
     ]
    }
   ],
   "source": [
    "num = 6\n",
    "end = num - 1\n",
    "for i in range (0,num):\n",
    "    for j in range(0,num):\n",
    "        if j >=end -i:\n",
    "            print (\"\",end=\"\")   \n",
    "        else:\n",
    "            print (\"\",end=\"\")\n",
    "    print()"
   ]
  },
  {
   "cell_type": "code",
   "execution_count": null,
   "id": "f820ddcc-f152-4a40-8bc7-8289a00361d0",
   "metadata": {},
   "outputs": [],
   "source": []
  }
 ],
 "metadata": {
  "kernelspec": {
   "display_name": "Python 3 (ipykernel)",
   "language": "python",
   "name": "python3"
  },
  "language_info": {
   "codemirror_mode": {
    "name": "ipython",
    "version": 3
   },
   "file_extension": ".py",
   "mimetype": "text/x-python",
   "name": "python",
   "nbconvert_exporter": "python",
   "pygments_lexer": "ipython3",
   "version": "3.11.5"
  }
 },
 "nbformat": 4,
 "nbformat_minor": 5
}
