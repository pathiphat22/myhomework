{
 "cells": [
  {
   "cell_type": "markdown",
   "metadata": {},
   "source": [
    "# ข้อสอบปลายภาควิชา การเขียนโปรแกรมเชิงวัตถุ"
   ]
  },
  {
   "cell_type": "code",
   "execution_count": null,
   "metadata": {},
   "outputs": [],
   "source": [
    "\"\"\"\n",
    "ชื่อ - สกุล - รหัส\n",
    "\n",
    "นาย ปฏิพัทธ์ ศรีบุรินทร์ 6612732117\n",
    "\"\"\""
   ]
  },
  {
   "cell_type": "markdown",
   "metadata": {},
   "source": [
    "## 1. เขียนโปรแกรมโดยใช้กลไกลการทำงานแบบ OOP ตามข้อกำหนดดังต่อไปนี้\n",
    "\n",
    "- จงสร้างคลาส Person\" ที่มีตัวแปร \"name\" และ \"age\" ซึ่งไม่สามารถเข้าถึงผ่านตัวแปร instance ได้ และเขียน method ที่ใช้สำหรับแก้ไข \"age\" จากภายในคลาส และ \"age\" จะต้องมีค่าเพิ่มขึ้นได้อย่างเดียวเท่านั้น\n",
    "\n",
    "- ภายใน Class Person กำหนดให้มี method ชื่อ getInfo() สำหรับแสดงข้อมูลบุคคลนั้น ๆ"
   ]
  },
  {
   "cell_type": "code",
   "execution_count": 16,
   "metadata": {
    "tags": []
   },
   "outputs": [
    {
     "name": "stdout",
     "output_type": "stream",
     "text": [
      "Name: John, Age: 30\n",
      "Name: John, Age: 35\n"
     ]
    }
   ],
   "source": [
    "# เขียนโปรแกรมในช่องนี้\n",
    "class Person:\n",
    "    def __init__(self, name, age):\n",
    "        self._name = name\n",
    "        self._age = age\n",
    "\n",
    "    def _set_age(self, new_age):\n",
    "        if new_age > self._age:\n",
    "            self._age = new_age\n",
    "\n",
    "    def get_info(self):\n",
    "        return f\"Name: {self._name}, Age: {self._age}\"\n",
    "\n",
    "# ตัวอย่างการใช้งาน\n",
    "person1 = Person(\"John\", 30)\n",
    "print(person1.get_info())  # แสดงข้อมูลเริ่มต้น\n",
    "\n",
    "# ไม่สามารถเข้าถึงตัวแปร _age โดยตรงได้\n",
    "# print(person1._age)  # จะทำให้เกิด AttributeError\n",
    "\n",
    "# เปลี่ยนอายุด้วยเมธอด _set_age และแสดงข้อมูลใหม่\n",
    "person1._set_age(35)\n",
    "print(person1.get_info())\n",
    "\n"
   ]
  },
  {
   "cell_type": "code",
   "execution_count": 11,
   "metadata": {
    "tags": []
   },
   "outputs": [],
   "source": [
    "# จงสร้างตัวแปร instance จากคลาส Person\n",
    "\n",
    "# สร้างตัวแปร instance จากคลาส Person\n",
    "person1 = Person(\"John\", 30)\n",
    "person2 = Person(\"Jane\", 25)\n",
    "\n"
   ]
  },
  {
   "cell_type": "code",
   "execution_count": 52,
   "metadata": {
    "tags": []
   },
   "outputs": [],
   "source": [
    "# จงกำหนดอายุให้แก่ age\n",
    "\n",
    "# กำหนดอายุให้แก่ตัวแปร instance\n",
    "person1._set_age(30)\n",
    "person2._set_age(25)\n"
   ]
  },
  {
   "cell_type": "code",
   "execution_count": 53,
   "metadata": {
    "tags": []
   },
   "outputs": [
    {
     "name": "stdout",
     "output_type": "stream",
     "text": [
      "Name: John, Age: 35\n",
      "Name: Jane, Age: 30\n"
     ]
    }
   ],
   "source": [
    "# จงแสดงข้่อมูลบุคคลของตัวแปร instance \n",
    "\n",
    "# แสดงข้อมูลบุคคลของตัวแปร instance\n",
    "print(person1.get_info())\n",
    "print(person2.get_info())"
   ]
  },
  {
   "cell_type": "markdown",
   "metadata": {},
   "source": [
    "## 2.จงสร้างคลาส Student ที่มีการสืบทอดคุณสมบัติจากคลาส Person ในข้อที่ 1\n",
    "\n",
    "- ในคลาส Student จะมีคุณสมบัติเพิ่มเข้ามาดังต่อไปนี้ \"student_id\" คือ รหัสนักศึกษา, \"major\" คือ สาขาวิชา และทั้งสองจะต้องเป็นคุณสมบัติที่ไม่สามารถแก้ไขได้หลังจากสร้างตัวแปร Instance แล้ว\n",
    "\n",
    "- และใน method getInfo() ให้เพิ่มการแแสดง รหัสนักศึกษา และ สาชาวิชา เข้ามาด้วย"
   ]
  },
  {
   "cell_type": "code",
   "execution_count": 20,
   "metadata": {
    "tags": []
   },
   "outputs": [
    {
     "name": "stdout",
     "output_type": "stream",
     "text": [
      "Name: Alice, Age: 20, Student ID: S12345, Major: Computer Science\n"
     ]
    }
   ],
   "source": [
    "\n",
    "class Student(Person):  # สืบทอดคุณสมบัติจากคลาส Person\n",
    "    def __init__(self, name, age, student_id, major):\n",
    "        super().__init__(name, age)  # เรียกใช้ __init__ ของคลาส Person\n",
    "        self._student_id = student_id\n",
    "        self._major = major\n",
    "\n",
    "    def get_student_info(self):\n",
    "        return f\"Name: {self._name}, Age: {self._age}, Student ID: {self._student_id}, Major: {self._major}\"\n",
    "\n",
    "# ตัวอย่างการใช้งาน\n",
    "student1 = Student(\"Alice\", 20, \"S12345\", \"Computer Science\")\n",
    "print(student1.get_student_info())\n"
   ]
  },
  {
   "cell_type": "code",
   "execution_count": 18,
   "metadata": {
    "tags": []
   },
   "outputs": [],
   "source": [
    "# จงสร้างตัวแปร instance จากคลาส Student\n",
    "\n",
    "student2 = Student(\"Bob\", 22, \"S56789\")\n",
    "\n"
   ]
  },
  {
   "cell_type": "code",
   "execution_count": 21,
   "metadata": {
    "tags": []
   },
   "outputs": [
    {
     "name": "stdout",
     "output_type": "stream",
     "text": [
      "Name: Alice, Age: 20, Student ID: S12345, Major: Computer Science\n"
     ]
    }
   ],
   "source": [
    "# จงแสดงข้่อมูลนักเรียนของตัวแปร instance \n",
    "\n",
    "print(student1.get_student_info())"
   ]
  },
  {
   "cell_type": "markdown",
   "metadata": {},
   "source": [
    "## 3.จงสร้างคลาส ComSciStudent ที่มีการสืบทอดคุณสมบัติจากคลาส Student ในข้อที่ 2\n",
    "\n",
    "- ในคลาส ComSciStudent จะมีคุณสมบัติที่รับเข้ามาแค่ \"student_id\" คือ รหัสนักศึกษา, แต่ \"major\" คือ สาขาวิชา จะมีค่า default เป็น \"Computer Science\" และทั้งสองจะต้องเป็นคุณสมบัติที่ไม่สามารถแก้ไขได้หลังจากสร้างตัวแปร Instance แล้ว\n",
    "\n",
    "- ในคลาส ComSciStudent จะมีคุณสมบัติที่เพิ่มเข้ามา อีก 1 ตัว คือ ความถนัด หรือ aptitude เพิ่มเข้ามา ซึ่งจะสามารถกำหนดได้ในกระบวนการสร้างตัวแปร instance และจะสามารถแก้ไขได้อีกโดยการแก้ไขผ่าน method ได้เท่านั้น\n",
    "\n",
    "\n",
    "- ในคลาส ComSciStudent จะมี method ชื่อว่า Coding() ซึ่งจะนำเสนอข้อมูลว่า นักศึกษา รหัสนักศึกษา ชื่อ กำลังเขียนโปรแกรมอยู่\n",
    "\n",
    "- ในคลาส ComSciStudent จะมี method ชื่อว่า getAptitude() ซึ่งจะนำเสนอข้อมูลว่า นักศึกษา รหัสนักศึกษา ชื่อ มีความถนัดเรื่อง ..."
   ]
  },
  {
   "cell_type": "code",
   "execution_count": 149,
   "metadata": {
    "tags": []
   },
   "outputs": [],
   "source": [
    "# เขียนโปรแกรมในช่องนี้\n",
    "class ComSciStudent:\n",
    "    def __init__(self, student_id, major=\"Computer Science\", aptitude=None):\n",
    "        self.__student_id = student_id\n",
    "        self.__major = major\n",
    "        self.__aptitude = aptitude\n",
    "\n",
    "    @property\n",
    "    def student_id(self):\n",
    "        return self.__student_id\n",
    "\n",
    "    @property\n",
    "    def major(self):\n",
    "        return self.__major\n",
    "\n",
    "    @property\n",
    "    def aptitude(self):\n",
    "        return self.__aptitude\n",
    "\n",
    "    @aptitude.setter\n",
    "    def aptitude(self, value):\n",
    "        # ตรวจสอบว่า aptitude สามารถแก้ไขได้หรือไม่\n",
    "        if hasattr(self, \"_ComSciStudent__aptitude\"):  # ตรวจสอบว่ามี attribute นี้หรือไม่\n",
    "            self.__aptitude = value\n",
    "        else:\n",
    "            raise AttributeError(\"Cannot modify aptitude after instance creation\")\n",
    "\n",
    "    def Coding(self):\n",
    "        print(f\"Student {self.__student_id} is coding.\")\n",
    "\n",
    "    def getAptitude(self):\n",
    "        if self.__aptitude is not None:\n",
    "            return f\"Student {self.__student_id} is apt at {self.__aptitude}.\"\n",
    "        else:\n",
    "            return f\"Student {self.__student_id} has no specified aptitude.\"\n",
    "\n",
    "\n",
    "\n",
    "\n",
    "\n"
   ]
  },
  {
   "cell_type": "code",
   "execution_count": 147,
   "metadata": {
    "tags": []
   },
   "outputs": [
    {
     "ename": "TypeError",
     "evalue": "ComSciStudent.__init__() takes from 2 to 4 positional arguments but 5 were given",
     "output_type": "error",
     "traceback": [
      "\u001b[1;31m---------------------------------------------------------------------------\u001b[0m",
      "\u001b[1;31mTypeError\u001b[0m                                 Traceback (most recent call last)",
      "Cell \u001b[1;32mIn[147], line 3\u001b[0m\n\u001b[0;32m      1\u001b[0m \u001b[38;5;66;03m# จงสร้างตัวแปร instance จากคลาส ComSciStudent\u001b[39;00m\n\u001b[1;32m----> 3\u001b[0m comsci_student \u001b[38;5;241m=\u001b[39m ComSciStudent(\u001b[38;5;124m\"\u001b[39m\u001b[38;5;124mAlice\u001b[39m\u001b[38;5;124m\"\u001b[39m, \u001b[38;5;241m20\u001b[39m, \u001b[38;5;124m\"\u001b[39m\u001b[38;5;124mS12345\u001b[39m\u001b[38;5;124m\"\u001b[39m, \u001b[38;5;124m\"\u001b[39m\u001b[38;5;124mMachine Learning\u001b[39m\u001b[38;5;124m\"\u001b[39m)\n",
      "\u001b[1;31mTypeError\u001b[0m: ComSciStudent.__init__() takes from 2 to 4 positional arguments but 5 were given"
     ]
    }
   ],
   "source": [
    "# จงสร้างตัวแปร instance จากคลาส ComSciStudent\n",
    "\n",
    "comsci_student = ComSciStudent(\"Alice\", 20, \"S12345\", \"Machine Learning\")\n",
    "\n",
    "\n",
    "\n"
   ]
  },
  {
   "cell_type": "code",
   "execution_count": 148,
   "metadata": {
    "tags": []
   },
   "outputs": [
    {
     "name": "stdout",
     "output_type": "stream",
     "text": [
      "Name:  S12345, Age: Alice, Student ID: 20, Major: Computer Science, Aptitude: Python Programming\n"
     ]
    }
   ],
   "source": [
    "# จงแสดงข้่อมูลนักเรียนของตัวแปร instance \n",
    "\n",
    "# แสดงข้อมูลนักเรียน\n",
    "print(comsci_student.get_comsci_student_info())\n",
    "\n",
    "\n"
   ]
  },
  {
   "cell_type": "code",
   "execution_count": 138,
   "metadata": {
    "tags": []
   },
   "outputs": [
    {
     "data": {
      "text/plain": [
       "'Student 20,  S12345, is coding.'"
      ]
     },
     "execution_count": 138,
     "metadata": {},
     "output_type": "execute_result"
    }
   ],
   "source": [
    "# จงแสดงการ coding\n",
    "# ตัวอย่างการ coding\n",
    "comsci_student.Coding()\n"
   ]
  },
  {
   "cell_type": "code",
   "execution_count": 139,
   "metadata": {
    "tags": []
   },
   "outputs": [
    {
     "name": "stdout",
     "output_type": "stream",
     "text": [
      "Python Programming\n"
     ]
    }
   ],
   "source": [
    "# จงแสดงความถนัด\n",
    "\n",
    "# แสดงความถนัด\n",
    "print(comsci_student.aptitude)\n"
   ]
  },
  {
   "cell_type": "code",
   "execution_count": 140,
   "metadata": {
    "tags": []
   },
   "outputs": [
    {
     "name": "stdout",
     "output_type": "stream",
     "text": [
      "Python Programming\n"
     ]
    }
   ],
   "source": [
    "# จงแก้ไขความถนัด ให้เป็น Python Programing\n",
    "\n",
    "\n",
    "comsci_student.aptitude = \"Python Programming\"\n",
    "\n",
    "# แสดงความถนัดใหม่\n",
    "print(comsci_student1.aptitude)\n"
   ]
  },
  {
   "cell_type": "code",
   "execution_count": null,
   "metadata": {},
   "outputs": [],
   "source": []
  }
 ],
 "metadata": {
  "kernelspec": {
   "display_name": "Python 3 (ipykernel)",
   "language": "python",
   "name": "python3"
  },
  "language_info": {
   "codemirror_mode": {
    "name": "ipython",
    "version": 3
   },
   "file_extension": ".py",
   "mimetype": "text/x-python",
   "name": "python",
   "nbconvert_exporter": "python",
   "pygments_lexer": "ipython3",
   "version": "3.11.5"
  }
 },
 "nbformat": 4,
 "nbformat_minor": 4
}
