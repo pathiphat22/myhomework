{
 "cells": [
  {
   "cell_type": "code",
   "execution_count": 1,
   "id": "fe823e2e-b920-4710-8687-a8274d87e837",
   "metadata": {
    "tags": []
   },
   "outputs": [
    {
     "name": "stdout",
     "output_type": "stream",
     "text": [
      "นาย ปฏิพัทธ์ ศรีบุรินทร์\n"
     ]
    }
   ],
   "source": [
    "print (\"นาย ปฏิพัทธ์ ศรีบุรินทร์\") "
   ]
  },
  {
   "cell_type": "code",
   "execution_count": null,
   "id": "ac911119-f0d8-4101-8598-d81c7c0fa8aa",
   "metadata": {},
   "outputs": [],
   "source": []
  }
 ],
 "metadata": {
  "kernelspec": {
   "display_name": "Python 3 (ipykernel)",
   "language": "python",
   "name": "python3"
  },
  "language_info": {
   "codemirror_mode": {
    "name": "ipython",
    "version": 3
   },
   "file_extension": ".py",
   "mimetype": "text/x-python",
   "name": "python",
   "nbconvert_exporter": "python",
   "pygments_lexer": "ipython3",
   "version": "3.11.5"
  }
 },
 "nbformat": 4,
 "nbformat_minor": 5
}
